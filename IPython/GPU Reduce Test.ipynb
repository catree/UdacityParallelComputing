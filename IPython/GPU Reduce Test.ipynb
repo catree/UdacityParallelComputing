{
 "metadata": {
  "name": "GPU Reduce Test"
 },
 "nbformat": 3,
 "nbformat_minor": 0,
 "worksheets": [
  {
   "cells": [
    {
     "cell_type": "markdown",
     "metadata": {},
     "source": [
      "# GPU Reduce Test\n",
      "\n",
      "The purpose of this code is to implement a canonical reduce algorithm on the GPU."
     ]
    },
    {
     "cell_type": "code",
     "collapsed": false,
     "input": [
      "import reduce\n",
      "\n",
      "n          = 10000\n",
      "input_data = (numpy.random.rand(n)).astype(numpy.float32)\n",
      "\n",
      "reduce_manager = reduce.ReduceManager(n)\n",
      "\n",
      "print \"Difference between GPU and CPU sum reduce (should be less than 0.1): %f\" % abs( reduce_manager.reduce_sum_host(input_data) - numpy.sum(input_data) )\n",
      "print\n",
      "print \"%f\" % numpy.sum(input_data)\n",
      "print \"%f\" % reduce_manager.reduce_sum_host(input_data)"
     ],
     "language": "python",
     "metadata": {},
     "outputs": [
      {
       "output_type": "stream",
       "stream": "stdout",
       "text": [
        "Difference between GPU and CPU sum reduce (should be less than 0.1): 0.002441\n",
        "\n",
        "5036.395020\n",
        "5036.397461\n"
       ]
      }
     ],
     "prompt_number": 1
    },
    {
     "cell_type": "code",
     "collapsed": false,
     "input": [
      "import reduce\n",
      "\n",
      "n          = 20\n",
      "input_data = (numpy.random.rand(n) + 1.01).astype(numpy.float32)\n",
      "\n",
      "reduce_manager = reduce.ReduceManager(n)\n",
      "\n",
      "print \"Difference between GPU and CPU product reduce (should be less than 0.1): %f\" % abs( reduce_manager.reduce_product_host(input_data) - numpy.prod(input_data) )\n",
      "print\n",
      "print \"%f\" % numpy.prod(input_data)\n",
      "print \"%f\" % reduce_manager.reduce_product_host(input_data)"
     ],
     "language": "python",
     "metadata": {},
     "outputs": [
      {
       "output_type": "stream",
       "stream": "stdout",
       "text": [
        "Difference between GPU and CPU product reduce (should be less than 0.1): 0.000977\n",
        "\n",
        "11819.498047\n",
        "11819.499023\n"
       ]
      }
     ],
     "prompt_number": 2
    },
    {
     "cell_type": "code",
     "collapsed": false,
     "input": [
      "import reduce\n",
      "\n",
      "n          = 10000\n",
      "input_data = (numpy.random.rand(n)).astype(numpy.float32)\n",
      "\n",
      "reduce_manager = reduce.ReduceManager(n)\n",
      "\n",
      "print \"Difference between GPU and CPU min reduce (should be 0.0): %f\" % abs( reduce_manager.reduce_min_host(input_data) - numpy.min(input_data) )\n",
      "print\n",
      "print \"%f\" % numpy.min(input_data)\n",
      "print \"%f\" % reduce_manager.reduce_min_host(input_data)"
     ],
     "language": "python",
     "metadata": {},
     "outputs": [
      {
       "output_type": "stream",
       "stream": "stdout",
       "text": [
        "Difference between GPU and CPU min reduce (should be 0.0): 0.000000\n",
        "\n",
        "0.000037\n",
        "0.000037\n"
       ]
      }
     ],
     "prompt_number": 4
    },
    {
     "cell_type": "code",
     "collapsed": false,
     "input": [
      "import reduce\n",
      "\n",
      "n          = 10000\n",
      "input_data = (numpy.random.rand(n)).astype(numpy.float32)\n",
      "\n",
      "reduce_manager = reduce.ReduceManager(n)\n",
      "\n",
      "print \"Difference between GPU and CPU max reduce (should be 0.0): %f\" % abs( reduce_manager.reduce_max_host(input_data) - numpy.max(input_data) )\n",
      "print\n",
      "print \"%f\" % numpy.max(input_data)\n",
      "print \"%f\" % reduce_manager.reduce_max_host(input_data)"
     ],
     "language": "python",
     "metadata": {},
     "outputs": [
      {
       "output_type": "stream",
       "stream": "stdout",
       "text": [
        "Difference between GPU and CPU max reduce (should be 0.0): 0.000000\n",
        "\n",
        "0.999915\n",
        "0.999915\n"
       ]
      }
     ],
     "prompt_number": 5
    }
   ],
   "metadata": {}
  }
 ]
}