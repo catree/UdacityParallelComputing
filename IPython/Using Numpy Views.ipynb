{
 "metadata": {
  "name": "Using Numpy Views"
 },
 "nbformat": 3,
 "nbformat_minor": 0,
 "worksheets": [
  {
   "cells": [
    {
     "cell_type": "markdown",
     "metadata": {},
     "source": [
      "# Using Numpy Views\n",
      "\n",
      "The purpose of this code is to demonstrate how to use Numpy Array Views to reinterpret color images as tuples of color values."
     ]
    },
    {
     "cell_type": "code",
     "collapsed": false,
     "input": [
      "import PIL\n",
      "import PIL.Image\n",
      "\n",
      "image           = PIL.Image.open(\"cinque_terre.jpg\")\n",
      "image_array_rgb = numpy.array(image)\n",
      "view            = image_array_rgb.view(dtype=[(\"r\", numpy.uint8), (\"g\", numpy.uint8), (\"b\", numpy.uint8)]).squeeze()\n",
      "\n",
      "print view\n",
      "print\n",
      "print \"The (r,g,b)=%s at (x,y)=(600,500)\" % view[500,600]"
     ],
     "language": "python",
     "metadata": {},
     "outputs": [
      {
       "output_type": "stream",
       "stream": "stdout",
       "text": [
        "[[(255, 255, 255) (255, 255, 255) (255, 255, 255) ..., (75, 75, 63)\n",
        "  (77, 77, 65) (77, 77, 65)]\n",
        " [(255, 255, 255) (255, 255, 255) (255, 255, 255) ..., (76, 73, 64)\n",
        "  (77, 74, 65) (77, 74, 65)]\n",
        " [(255, 255, 255) (255, 255, 255) (255, 255, 255) ..., (74, 71, 62)\n",
        "  (74, 71, 62) (77, 74, 65)]\n",
        " ..., \n",
        " [(170, 183, 140) (163, 176, 133) (160, 175, 134) ..., (188, 156, 99)\n",
        "  (189, 157, 100) (191, 159, 102)]\n",
        " [(175, 183, 136) (178, 186, 139) (175, 184, 139) ..., (189, 157, 100)\n",
        "  (192, 160, 103) (191, 160, 103)]\n",
        " [(183, 185, 145) (186, 188, 148) (186, 188, 148) ..., (190, 157, 103)\n",
        "  (192, 161, 106) (190, 159, 104)]]\n",
        "\n",
        "The (r,g,b)=(136, 129, 111) at (x,y)=(600,500)\n"
       ]
      }
     ],
     "prompt_number": 29
    }
   ],
   "metadata": {}
  }
 ]
}