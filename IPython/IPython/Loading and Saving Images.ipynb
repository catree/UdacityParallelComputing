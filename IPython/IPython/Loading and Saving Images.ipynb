{
 "metadata": {
  "name": "Loading and Saving Images"
 },
 "nbformat": 3,
 "nbformat_minor": 0,
 "worksheets": [
  {
   "cells": [
    {
     "cell_type": "markdown",
     "metadata": {},
     "source": [
      "# Loading and Saving Images\n",
      "\n",
      "The purpose of this code is demonstrate how to load and save images."
     ]
    },
    {
     "cell_type": "code",
     "collapsed": false,
     "input": [
      "import PIL\n",
      "import PIL.Image\n",
      "import scipy\n",
      "import scipy.misc\n",
      "\n",
      "image                 = PIL.Image.open(\"cinque_terre.jpg\")\n",
      "image_array_rgb       = numpy.array(image)\n",
      "\n",
      "image_array_greyscale = \\\n",
      "    (image_array_rgba[:,:,0].astype(numpy.uint32) + image_array_rgba[:,:,1].astype(numpy.uint32) + image_array_rgba[:,:,2].astype(numpy.uint32)) / 3\n",
      "\n",
      "scipy.misc.imsave(\"cinque_terre_greyscale.jpg\", image_array_greyscale)"
     ],
     "language": "python",
     "metadata": {},
     "outputs": []
    }
   ],
   "metadata": {}
  }
 ]
}