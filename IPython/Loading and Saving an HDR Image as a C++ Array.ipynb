{
 "metadata": {
  "name": "Loading and Saving an HDR Image as a C++ Array"
 },
 "nbformat": 3,
 "nbformat_minor": 0,
 "worksheets": [
  {
   "cells": [
    {
     "cell_type": "markdown",
     "metadata": {},
     "source": [
      "# Loading and Saving an HDR Image as a C++ Array\n",
      "\n",
      "The purpose of this code is save an HDR image as a C++ array."
     ]
    },
    {
     "cell_type": "code",
     "collapsed": false,
     "input": [
      "import array\n",
      "import OpenEXR\n",
      "import Imath\n",
      "\n",
      "pt         = Imath.PixelType(Imath.PixelType.FLOAT)\n",
      "rgb_hdr    = OpenEXR.InputFile(\"memorial.exr\")\n",
      "header     = rgb_hdr.header()\n",
      "dw         = header[\"dataWindow\"]\n",
      "sz         = (dw.max.x - dw.min.x + 1, dw.max.y - dw.min.y + 1)\n",
      "\n",
      "r_hdr, g_hdr, b_hdr = rgb_hdr.channels(\"RGB\", pt)\n",
      "\n",
      "r = numpy.fromstring(r_hdr, dtype=numpy.float32).reshape((sz[1], sz[0]))\n",
      "g = numpy.fromstring(g_hdr, dtype=numpy.float32).reshape((sz[1], sz[0]))\n",
      "b = numpy.fromstring(b_hdr, dtype=numpy.float32).reshape((sz[1], sz[0]))\n",
      "\n",
      "rgb = numpy.concatenate((r[:,:,newaxis],g[:,:,newaxis],b[:,:,newaxis]), axis=2).copy()\n",
      "\n",
      "c_string = \"float hdrImageData[%d] = { %0.15f\" % (rgb.ravel().shape[0], rgb.ravel()[0])\n",
      "\n",
      "for f in rgb.ravel()[1:]:\n",
      "    c_string = c_string + \", %0.15f\" % f\n",
      "\n",
      "c_string = c_string + \" };\\n\"\n",
      "c_string = c_string + \"int hdrImageNumRows    = %d;\\n\" % sz[1]\n",
      "c_string = c_string + \"int hdrImageNumColumns = %d;\\n\" % sz[0]\n",
      "\n",
      "with open(\"hdrImageData.h\", 'w') as file:\n",
      "    file.write(c_string)\n"
     ],
     "language": "python",
     "metadata": {},
     "outputs": [],
     "prompt_number": 22
    }
   ],
   "metadata": {}
  }
 ]
}