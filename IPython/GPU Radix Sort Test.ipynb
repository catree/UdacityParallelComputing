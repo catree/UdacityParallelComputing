{
 "metadata": {
  "name": "GPU Radix Sort Test"
 },
 "nbformat": 3,
 "nbformat_minor": 0,
 "worksheets": [
  {
   "cells": [
    {
     "cell_type": "markdown",
     "metadata": {},
     "source": [
      "# GPU Radix Sort Test\n",
      "\n",
      "The purpose of this code is to implement a canonical radix sort algorithm on the GPU."
     ]
    },
    {
     "cell_type": "markdown",
     "metadata": {},
     "source": [
      "## generate data"
     ]
    },
    {
     "cell_type": "code",
     "collapsed": false,
     "input": [
      "n                    = 10000\n",
      "input_keys           = (numpy.random.rand(n) * n).astype(numpy.uint32)\n",
      "input_values         = input_keys.astype(numpy.float32)\n",
      "\n",
      "print input_keys\n",
      "print input_values"
     ],
     "language": "python",
     "metadata": {},
     "outputs": [
      {
       "output_type": "stream",
       "stream": "stdout",
       "text": [
        "[8650 3863 2904 ..., 6987 2423 5434]\n",
        "[ 8650.  3863.  2904. ...,  6987.  2423.  5434.]\n"
       ]
      }
     ],
     "prompt_number": 2
    },
    {
     "cell_type": "markdown",
     "metadata": {},
     "source": [
      "## perform mostly CPU radix sort  "
     ]
    },
    {
     "cell_type": "code",
     "collapsed": false,
     "input": [
      "import split\n",
      "\n",
      "num_bits_per_element = 32\n",
      "split_manager        = split.SplitManager(15000)\n",
      "\n",
      "flag_data            = zeros_like(input_keys)\n",
      "split_keys_old       = input_keys.copy()\n",
      "split_values_old     = input_values.copy()\n",
      "split_keys_new       = zeros_like(input_keys)\n",
      "split_values_new     = zeros_like(input_values)\n",
      "\n",
      "for b in range(num_bits_per_element):\n",
      "\n",
      "    mask = 2**b\n",
      "\n",
      "    for i in range(n):\n",
      "        input_value  = split_keys_old[i]\n",
      "        flag_data[i] = not (input_value & mask)\n",
      "\n",
      "    split_manager.split_host(split_keys_old,   flag_data, split_keys_new)\n",
      "    split_manager.split_host(split_values_old, flag_data, split_values_new)\n",
      "\n",
      "    split_keys_old,   split_keys_new   = split_keys_new, split_keys_old\n",
      "    split_values_old, split_values_new = split_values_new, split_values_old\n",
      "    \n",
      "    \n",
      "    \n",
      "print input_keys\n",
      "print input_values\n",
      "print split_keys_old\n",
      "print split_values_old\n",
      "print numpy.sort(input_keys)\n",
      "print\n",
      "    \n",
      "print \"Difference between GPU and CPU keys   (should be 0.0%%): %f\" % numpy.linalg.norm(split_keys_new   - numpy.sort(input_keys))\n",
      "print \"Difference between GPU and CPU values (should be 0.0%%): %f\" % numpy.linalg.norm(split_values_new - numpy.sort(input_keys).astype(float32))"
     ],
     "language": "python",
     "metadata": {},
     "outputs": [
      {
       "output_type": "stream",
       "stream": "stdout",
       "text": [
        "[4 7 3 0 2 1 1 8 9 8]\n",
        "[ 4.  7.  3.  0.  2.  1.  1.  8.  9.  8.]\n",
        "[0 1 1 2 3 4 7 8 8 9]\n",
        "[ 0.  1.  1.  2.  3.  4.  7.  8.  8.  9.]\n",
        "[0 1 1 2 3 4 7 8 8 9]\n",
        "\n",
        "Difference between GPU and CPU keys   (should be 0.0%): 0.000000\n",
        "Difference between GPU and CPU values (should be 0.0%): 0.000000\n"
       ]
      }
     ],
     "prompt_number": 2
    },
    {
     "cell_type": "markdown",
     "metadata": {},
     "source": [
      "## perform fully GPU radix sort "
     ]
    },
    {
     "cell_type": "code",
     "collapsed": false,
     "input": [
      "import pycuda.autoinit\n",
      "import pycuda.driver\n",
      "import pycuda.compiler\n",
      "import split\n",
      "\n",
      "source_module = pycuda.compiler.SourceModule \\\n",
      "(\n",
      "\"\"\"\n",
      "__global__ void radix_sort_compute_flags(\n",
      "    unsigned int* d_input_data,\n",
      "    unsigned int* d_output_data,\n",
      "    int mask,\n",
      "    int n )\n",
      "{\n",
      "    int global_index_1d = ( blockIdx.x * blockDim.x ) + threadIdx.x;\n",
      "\n",
      "    if ( global_index_1d < n )\n",
      "    {\n",
      "        unsigned int input_value = d_input_data[ global_index_1d ];\n",
      "\n",
      "        if ( input_value & mask )\n",
      "        {\n",
      "            d_output_data[ global_index_1d ] = 0;\n",
      "        }\n",
      "        else\n",
      "        {\n",
      "            d_output_data[ global_index_1d ] = 1;\n",
      "        }\n",
      "    }\n",
      "}\n",
      "\"\"\"\n",
      ")\n",
      "\n",
      "radix_sort_compute_flags_function = source_module.get_function(\"radix_sort_compute_flags\")\n",
      "\n",
      "size_of_element_bytes   = 4\n",
      "size_of_element_bits    = 32\n",
      "max_num_elements        = 15000\n",
      "num_bytes               = max_num_elements * size_of_element_bytes\n",
      "\n",
      "input_keys_device       = pycuda.driver.mem_alloc(num_bytes)\n",
      "input_values_device     = pycuda.driver.mem_alloc(num_bytes)\n",
      "flag_data_device        = pycuda.driver.mem_alloc(num_bytes)\n",
      "split_keys_old_device   = pycuda.driver.mem_alloc(num_bytes)\n",
      "split_values_old_device = pycuda.driver.mem_alloc(num_bytes)\n",
      "split_keys_new_device   = pycuda.driver.mem_alloc(num_bytes)\n",
      "split_values_new_device = pycuda.driver.mem_alloc(num_bytes)\n",
      "\n",
      "split_manager           = split.SplitManager(max_num_elements)"
     ],
     "language": "python",
     "metadata": {},
     "outputs": [],
     "prompt_number": 4
    },
    {
     "cell_type": "code",
     "collapsed": false,
     "input": [
      "pycuda.driver.memcpy_htod(input_keys_device,       input_keys)\n",
      "pycuda.driver.memcpy_htod(input_values_device,     input_values)\n",
      "pycuda.driver.memcpy_htod(split_keys_old_device,   input_keys)\n",
      "pycuda.driver.memcpy_htod(split_values_old_device, input_values)\n",
      "\n",
      "pycuda.driver.memset_d32(flag_data_device,             0, n)\n",
      "pycuda.driver.memset_d32(split_keys_new_device,   0, n)\n",
      "pycuda.driver.memset_d32(split_values_new_device, 0, n)\n",
      "\n",
      "for b in range(num_bits_per_element):\n",
      "\n",
      "    mask = numpy.int32(2**numpy.int8(b))\n",
      "\n",
      "    radix_sort_compute_flags_funcion_block = (512,1,1)\n",
      "    num_blocks                             = int(ceil(float(n) / float(radix_sort_compute_flags_funcion_block[0])))\n",
      "    radix_sort_compute_flags_funcion_grid  = (num_blocks, 1)\n",
      "\n",
      "    radix_sort_compute_flags_function(\n",
      "        split_keys_old_device,\n",
      "        flag_data_device,\n",
      "        numpy.int32(mask),\n",
      "        numpy.int32(n),\n",
      "        block=radix_sort_compute_flags_funcion_block,\n",
      "        grid=radix_sort_compute_flags_funcion_grid)\n",
      "\n",
      "    split_manager.split_device(split_keys_old_device,   flag_data_device, split_keys_new_device,   n)\n",
      "    split_manager.split_device(split_values_old_device, flag_data_device, split_values_new_device, n)\n",
      "\n",
      "    split_keys_old_device,   split_keys_new_device   = split_keys_new_device, split_keys_old_device\n",
      "    split_values_old_device, split_values_new_device = split_values_new_device, split_values_old_device\n",
      "    \n",
      "pycuda.driver.memcpy_dtoh(split_keys_new,   split_keys_old_device)\n",
      "pycuda.driver.memcpy_dtoh(split_values_new, split_values_old_device)\n",
      "\n",
      "\n",
      "\n",
      "print input_keys\n",
      "print input_values\n",
      "print split_keys_new\n",
      "print split_values_new\n",
      "print numpy.sort(input_keys)\n",
      "print\n",
      "\n",
      "print \"Difference between GPU and CPU keys   (should be 0.0%%): %f\" % numpy.linalg.norm(split_keys_new   - numpy.sort(input_keys))\n",
      "print \"Difference between GPU and CPU values (should be 0.0%%): %f\" % numpy.linalg.norm(split_values_new - numpy.sort(input_keys).astype(float32))"
     ],
     "language": "python",
     "metadata": {},
     "outputs": [
      {
       "output_type": "stream",
       "stream": "stdout",
       "text": [
        "[4 7 3 0 2 1 1 8 9 8]\n",
        "[ 4.  7.  3.  0.  2.  1.  1.  8.  9.  8.]\n",
        "[0 1 1 2 3 4 7 8 8 9]\n",
        "[ 0.  1.  1.  2.  3.  4.  7.  8.  8.  9.]\n",
        "[0 1 1 2 3 4 7 8 8 9]\n",
        "\n",
        "Difference between GPU and CPU keys   (should be 0.0%): 0.000000\n",
        "Difference between GPU and CPU values (should be 0.0%): 0.000000\n"
       ]
      }
     ],
     "prompt_number": 5
    },
    {
     "cell_type": "markdown",
     "metadata": {},
     "source": [
      "## invoke GPU radix sort class"
     ]
    },
    {
     "cell_type": "code",
     "collapsed": false,
     "input": [
      "import radixsort\n",
      "\n",
      "n                    = 10000\n",
      "input_keys           = (numpy.random.rand(n) * n).astype(numpy.uint32)\n",
      "input_values         = input_keys.astype(numpy.float32)\n",
      "output_keys          = numpy.zeros_like(input_keys)\n",
      "output_values        = numpy.zeros_like(input_values)\n",
      "radix_sort_manager   = radixsort.RadixSortManager(15000)\n",
      "\n",
      "radix_sort_manager.radix_sort_key_value_ascending_host(input_keys, input_values, output_keys, output_values)\n",
      "\n",
      "print input_keys\n",
      "print input_values\n",
      "print output_keys\n",
      "print output_values\n",
      "print\n",
      "print \"Difference between GPU and CPU keys   (should be 0.0%%): %f\" % numpy.linalg.norm(output_keys   - numpy.sort(input_keys))\n",
      "print \"Difference between GPU and CPU values (should be 0.0%%): %f\" % numpy.linalg.norm(output_values - numpy.sort(input_keys).astype(float32))"
     ],
     "language": "python",
     "metadata": {},
     "outputs": [
      {
       "output_type": "stream",
       "stream": "stdout",
       "text": [
        "[5975  956 5375 ..., 4794 6543 9959]\n",
        "[ 5975.   956.  5375. ...,  4794.  6543.  9959.]\n",
        "[   0    2    3 ..., 9997 9998 9999]\n",
        "[  0.00000000e+00   2.00000000e+00   3.00000000e+00 ...,   9.99700000e+03\n",
        "   9.99800000e+03   9.99900000e+03]\n",
        "\n",
        "Difference between GPU and CPU keys   (should be 0.0%): 0.000000\n",
        "Difference between GPU and CPU values (should be 0.0%): 0.000000\n"
       ]
      }
     ],
     "prompt_number": 1
    },
    {
     "cell_type": "markdown",
     "metadata": {},
     "source": [
      "## ascending vs. descending and key-value vs. key-only"
     ]
    },
    {
     "cell_type": "code",
     "collapsed": false,
     "input": [
      "import radixsort\n",
      "\n",
      "n                    = 10\n",
      "input_keys           = (numpy.random.rand(n) * n).astype(numpy.uint32)\n",
      "input_values         = input_keys.astype(numpy.float32)\n",
      "output_keys          = numpy.zeros_like(input_keys)\n",
      "output_values        = numpy.zeros_like(input_values)\n",
      "radix_sort_manager   = radixsort.RadixSortManager(15000)\n",
      "\n",
      "radix_sort_manager.radix_sort_key_value_ascending_host(input_keys, input_values, output_keys, output_values)\n",
      "\n",
      "print input_keys\n",
      "print input_values\n",
      "print output_keys\n",
      "print output_values\n",
      "print\n",
      "\n",
      "\n",
      "\n",
      "n                    = 10\n",
      "input_keys           = (numpy.random.rand(n) * n).astype(numpy.uint32)\n",
      "input_values         = input_keys.astype(numpy.float32)\n",
      "output_keys          = numpy.zeros_like(input_keys)\n",
      "output_values        = numpy.zeros_like(input_values)\n",
      "radix_sort_manager   = radixsort.RadixSortManager(15000)\n",
      "\n",
      "radix_sort_manager.radix_sort_key_value_descending_host(input_keys, input_values, output_keys, output_values)\n",
      "\n",
      "print input_keys\n",
      "print input_values\n",
      "print output_keys\n",
      "print output_values\n",
      "print\n",
      "\n",
      "\n",
      "\n",
      "n                    = 10\n",
      "input_keys           = (numpy.random.rand(n) * n).astype(numpy.uint32)\n",
      "input_values         = input_keys.astype(numpy.float32)\n",
      "output_keys          = numpy.zeros_like(input_keys)\n",
      "output_values        = numpy.zeros_like(input_values)\n",
      "radix_sort_manager   = radixsort.RadixSortManager(15000)\n",
      "\n",
      "radix_sort_manager.radix_sort_key_ascending_host(input_keys, output_keys)\n",
      "\n",
      "print input_keys\n",
      "print output_keys\n",
      "print\n",
      "\n",
      "\n",
      "\n",
      "n                    = 10\n",
      "input_keys           = (numpy.random.rand(n) * n).astype(numpy.uint32)\n",
      "input_values         = input_keys.astype(numpy.float32)\n",
      "output_keys          = numpy.zeros_like(input_keys)\n",
      "output_values        = numpy.zeros_like(input_values)\n",
      "radix_sort_manager   = radixsort.RadixSortManager(15000)\n",
      "\n",
      "radix_sort_manager.radix_sort_key_descending_host(input_keys, output_keys)\n",
      "\n",
      "print input_keys\n",
      "print output_keys\n",
      "print\n"
     ],
     "language": "python",
     "metadata": {},
     "outputs": [
      {
       "output_type": "stream",
       "stream": "stdout",
       "text": [
        "[5 7 8 5 7 8 8 4 1 6]\n",
        "[ 5.  7.  8.  5.  7.  8.  8.  4.  1.  6.]\n",
        "[1 4 5 5 6 7 7 8 8 8]\n",
        "[ 1.  4.  5.  5.  6.  7.  7.  8.  8.  8.]\n",
        "\n",
        "[7 9 5 4 7 7 2 0 1 5]"
       ]
      },
      {
       "output_type": "stream",
       "stream": "stdout",
       "text": [
        "\n",
        "[ 7.  9.  5.  4.  7.  7.  2.  0.  1.  5.]\n",
        "[9 7 7 7 5 5 4 2 1 0]\n",
        "[ 9.  7.  7.  7.  5.  5.  4.  2.  1.  0.]\n",
        "\n",
        "[3 9 7 6 9 7 9 3 7 0]"
       ]
      },
      {
       "output_type": "stream",
       "stream": "stdout",
       "text": [
        "\n",
        "[0 3 3 6 7 7 7 9 9 9]\n",
        "\n",
        "[1 7 3 1 0 8 1 7 5 7]"
       ]
      },
      {
       "output_type": "stream",
       "stream": "stdout",
       "text": [
        "\n",
        "[8 7 7 7 5 3 1 1 1 0]\n",
        "\n"
       ]
      }
     ],
     "prompt_number": 1
    },
    {
     "cell_type": "markdown",
     "metadata": {},
     "source": [
      "## floating point keys"
     ]
    },
    {
     "cell_type": "code",
     "collapsed": false,
     "input": [
      "import radixsort\n",
      "\n",
      "n                    = 10000\n",
      "input_keys           = (numpy.random.rand(n) * n).astype(numpy.float32)\n",
      "output_keys          = numpy.zeros_like(input_keys)\n",
      "radix_sort_manager   = radixsort.RadixSortManager(15000)\n",
      "\n",
      "radix_sort_manager.radix_sort_key_ascending_host(input_keys, output_keys)\n",
      "\n",
      "print input_keys\n",
      "print output_keys\n",
      "print\n",
      "print \"Difference between GPU and CPU keys (should be 0.0%%): %f\" % numpy.linalg.norm(output_keys   - numpy.sort(input_keys))"
     ],
     "language": "python",
     "metadata": {},
     "outputs": [
      {
       "output_type": "stream",
       "stream": "stdout",
       "text": [
        "[ 8918.21484375   264.75027466  1458.15698242 ...,  8024.85791016\n",
        "  7234.17626953  2806.94628906]\n",
        "[  5.62201142e-01   1.49330997e+00   2.02303720e+00 ...,   9.99654004e+03\n",
        "   9.99820410e+03   9.99826562e+03]\n",
        "\n",
        "Difference between GPU and CPU keys (should be 0.0%): 0.000000\n"
       ]
      }
     ],
     "prompt_number": 9
    }
   ],
   "metadata": {}
  }
 ]
}